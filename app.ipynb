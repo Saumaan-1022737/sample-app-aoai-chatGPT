{
 "cells": [
  {
   "cell_type": "code",
   "execution_count": 1,
   "metadata": {},
   "outputs": [
    {
     "data": {
      "text/plain": [
       "True"
      ]
     },
     "execution_count": 1,
     "metadata": {},
     "output_type": "execute_result"
    }
   ],
   "source": [
    "from dotenv import load_dotenv\n",
    "import os\n",
    "load_dotenv()"
   ]
  },
  {
   "cell_type": "code",
   "execution_count": 2,
   "metadata": {},
   "outputs": [],
   "source": [
    "from azure.identity import DefaultAzureCredential\n",
    "from azure.search.documents import SearchClient\n",
    "\n",
    "service_endpoint = os.getenv(\"AZURE_SEARCH_SERVICE_ENDPOINT\")\n",
    "wiki_index = os.getenv(\"AZURE_SEARCH_INDEX_WIKI\")\n",
    "video_index = os.getenv(\"AZURE_SEARCH_INDEX_VIDEO\")\n",
    "credential = DefaultAzureCredential()\n"
   ]
  },
  {
   "cell_type": "code",
   "execution_count": 3,
   "metadata": {},
   "outputs": [],
   "source": [
    "wiki_search_client = SearchClient(service_endpoint, wiki_index, credential)\n",
    "video_search_client = SearchClient(service_endpoint, video_index, credential)"
   ]
  },
  {
   "cell_type": "code",
   "execution_count": 9,
   "metadata": {},
   "outputs": [],
   "source": [
    "results_wiki = wiki_search_client.search(search_text=\"register a PDM Link Server\", top=5)\n",
    "results_video = video_search_client.search(search_text=\"register a PDM Link Server\", top=5)"
   ]
  },
  {
   "cell_type": "code",
   "execution_count": 10,
   "metadata": {},
   "outputs": [
    {
     "name": "stdout",
     "output_type": "stream",
     "text": [
      "result_wiki 10.9183445 result_video 6.379058\n",
      "result_wiki 7.562377 result_video 5.8741236\n",
      "result_wiki 6.5556664 result_video 5.2683687\n",
      "result_wiki 5.7498865 result_video 4.63564\n",
      "result_wiki 5.033559 result_video 4.5281897\n"
     ]
    }
   ],
   "source": [
    "for result_wiki, result_video in zip(results_wiki, results_video):\n",
    "    print('result_wiki', result_wiki['@search.score'], 'result_video', result_video['@search.score'])"
   ]
  },
  {
   "cell_type": "code",
   "execution_count": null,
   "metadata": {},
   "outputs": [],
   "source": []
  },
  {
   "cell_type": "code",
   "execution_count": 14,
   "metadata": {},
   "outputs": [
    {
     "name": "stdout",
     "output_type": "stream",
     "text": [
      "Retrieving subscriptions...\n",
      "Logged in to Azure.\n"
     ]
    },
    {
     "name": "stderr",
     "output_type": "stream",
     "text": [
      "WARNING: your version of azd is out of date, you have 1.9.6 and the latest version is 1.10.1\n",
      "\n",
      "To update to the latest version, run:\n",
      "winget upgrade Microsoft.Azd\n"
     ]
    }
   ],
   "source": [
    "!azd auth login"
   ]
  },
  {
   "cell_type": "code",
   "execution_count": 13,
   "metadata": {},
   "outputs": [],
   "source": [
    "from langchain_openai import AzureChatOpenAI\n",
    "from azure.identity import DefaultAzureCredential, get_bearer_token_provider\n",
    "from backend.auth.auth_utils import get_authenticated_user_details\n",
    "from backend.security.ms_defender_utils import get_msdefender_user_json\n",
    "from quart import request\n",
    "# from llama_index.llms.azure_openai import AzureOpenAI"
   ]
  },
  {
   "cell_type": "code",
   "execution_count": 14,
   "metadata": {},
   "outputs": [],
   "source": [
    "api_version = os.environ.get(\"AZURE_OPENAI_PREVIEW_API_VERSION\")\n",
    "aoai_api_key = os.environ.get(\"AZURE_OPENAI_KEY\")\n",
    "ad_token_provider = get_bearer_token_provider(DefaultAzureCredential(),\"https://cognitiveservices.azure.com/.default\")\n",
    "endpoint = (\n",
    "            os.environ.get(\"AZURE_OPENAI_ENDPOINT\")\n",
    "            if os.environ.get(\"AZURE_OPENAI_ENDPOINT\")\n",
    "            else f\"https://{os.environ.get('AZURE_OPENAI_RESOURCE')}.openai.azure.com/\"\n",
    "        )\n",
    "default_headers = {\"x-ms-useragent\": \"GitHubSampleWebApp/AsyncAzureOpenAI/1.0.0\"}\n",
    "\n",
    "\n",
    "authenticated_user_details = get_authenticated_user_details({})\n",
    "conversation_id = None     \n",
    "user_json = get_msdefender_user_json(authenticated_user_details, {}, conversation_id)\n",
    "\n",
    "\n",
    "# from llama_index.llms.azure_openai import AzureOpenAI\n",
    "\n",
    "# llm = AzureOpenAI(\n",
    "#     engine=os.environ.get(\"AZURE_OPENAI_MODEL\"),\n",
    "#     model=os.environ.get(\"AZURE_OPENAI_MODEL_NAME\"),\n",
    "#     api_key=aoai_api_key,\n",
    "#     azure_endpoint=endpoint,\n",
    "#     api_version=api_version,\n",
    "#     AZURE_AD_TOKEN_PROVIDER = ad_token_provider,\n",
    "#     use_azure_ad =True,\n",
    "#     kwargs={'default_headers': default_headers, \"user\": user_json},\n",
    "# )\n",
    "\n",
    "llm = AzureChatOpenAI(\n",
    "    deployment_name = os.environ.get(\"AZURE_OPENAI_MODEL\"),\n",
    "    openai_api_version = api_version,\n",
    "    openai_api_key = aoai_api_key,\n",
    "    azure_ad_token_provider = ad_token_provider,\n",
    "    default_headers = default_headers,\n",
    "    azure_endpoint = endpoint,\n",
    "    include_response_headers = True,\n",
    "    streaming= True,\n",
    "    temperature= 0.15,\n",
    "    # user_json = user_json\n",
    "    # model_kwargs = {'': user_json}\n",
    "    # logprobs=True,\n",
    "    model_kwargs={\"stream_options\": {\"include_usage\": True}}\n",
    "    )"
   ]
  },
  {
   "cell_type": "code",
   "execution_count": 45,
   "metadata": {},
   "outputs": [
    {
     "name": "stdout",
     "output_type": "stream",
     "text": [
      "assistant: Ahoy there, matey! Welcome aboard! What brings ye to these treacherous waters today? Lookin' for treasure, a tale, or perhaps a bit o' both? Arrr!\n"
     ]
    }
   ],
   "source": [
    "from llama_index.core.llms import ChatMessage\n",
    "\n",
    "messages = [\n",
    "    ChatMessage(\n",
    "        role=\"system\", content=\"You are a pirate with colorful personality.\"\n",
    "    ),\n",
    "    ChatMessage(role=\"user\", content=\"Hello\"),\n",
    "]\n",
    "\n",
    "response = llm.chat(messages)\n",
    "print(response)"
   ]
  },
  {
   "cell_type": "code",
   "execution_count": 6,
   "metadata": {},
   "outputs": [],
   "source": [
    "import nest_asyncio\n",
    "nest_asyncio.apply()"
   ]
  },
  {
   "cell_type": "code",
   "execution_count": 5,
   "metadata": {},
   "outputs": [
    {
     "data": {
      "text/plain": [
       "AIMessage(content=\"I'm just a computer program, so I don't have feelings, but I'm here and ready to help you! How can I assist you today?\", additional_kwargs={}, response_metadata={'finish_reason': 'stop', 'model_name': 'gpt-4o-2024-05-13', 'system_fingerprint': 'fp_80a1bad4c7'}, id='run-3f724057-5589-4b85-9fd8-311050c8c8b3-0', usage_metadata={'input_tokens': 24, 'output_tokens': 28, 'total_tokens': 52})"
      ]
     },
     "execution_count": 5,
     "metadata": {},
     "output_type": "execute_result"
    }
   ],
   "source": [
    "messages = [\n",
    "    (\n",
    "        \"system\",\n",
    "        \"You are a helpful assistant that helps user.\",\n",
    "    ),\n",
    "    (\"human\", \"How are you?\"),\n",
    "]\n",
    "ai_msg = llm.invoke(messages)\n",
    "# apim_request_id = ai_msg.response_metadata['headers']['apim-request-id']\n",
    "ai_msg\n"
   ]
  },
  {
   "cell_type": "code",
   "execution_count": 40,
   "metadata": {},
   "outputs": [],
   "source": [
    "from backend.utils import (\n",
    "    format_as_ndjson,\n",
    "    format_stream_response,\n",
    "    format_non_streaming_response,\n",
    "    convert_to_pf_format,\n",
    "    format_pf_non_streaming_response,\n",
    ")"
   ]
  },
  {
   "cell_type": "code",
   "execution_count": null,
   "metadata": {},
   "outputs": [],
   "source": []
  }
 ],
 "metadata": {
  "kernelspec": {
   "display_name": "Python 3",
   "language": "python",
   "name": "python3"
  },
  "language_info": {
   "codemirror_mode": {
    "name": "ipython",
    "version": 3
   },
   "file_extension": ".py",
   "mimetype": "text/x-python",
   "name": "python",
   "nbconvert_exporter": "python",
   "pygments_lexer": "ipython3",
   "version": "3.10.11"
  }
 },
 "nbformat": 4,
 "nbformat_minor": 2
}
